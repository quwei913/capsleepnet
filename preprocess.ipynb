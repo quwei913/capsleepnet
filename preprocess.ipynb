{
 "cells": [
  {
   "cell_type": "code",
   "execution_count": 1,
   "id": "16f0ce81",
   "metadata": {},
   "outputs": [],
   "source": [
    "import pandas as pd\n",
    "import numpy as np\n",
    "import glob\n",
    "import os\n",
    "from datetime import datetime, timedelta\n",
    "import math\n",
    "from scipy.signal import resample"
   ]
  },
  {
   "cell_type": "code",
   "execution_count": 2,
   "id": "955130a4",
   "metadata": {},
   "outputs": [],
   "source": [
    "STG_DIR = '/share/wequ0318/cap_clean/staging'\n",
    "CAP_DIR = '/share/wequ0318/cap_clean/cap'\n",
    "OUTPUT_DIR = '/share/wequ0318/cap_clean/processed'\n",
    "if not os.path.exists(OUTPUT_DIR):\n",
    "    os.mkdir(OUTPUT_DIR)"
   ]
  },
  {
   "cell_type": "code",
   "execution_count": 3,
   "id": "158bdf87",
   "metadata": {},
   "outputs": [],
   "source": [
    "def extend_time(start_time):\n",
    "    start_time = start_time.replace('.', ':')\n",
    "    s_t = datetime.strptime(start_time, \"%H:%M:%S\")\n",
    "    ext_t = [(s_t + timedelta(seconds=d)).strftime(\"%H:%M:%S\") for d in range(30)]\n",
    "    return np.array(ext_t)"
   ]
  },
  {
   "cell_type": "code",
   "execution_count": 5,
   "id": "c57bead8",
   "metadata": {},
   "outputs": [
    {
     "name": "stdout",
     "output_type": "stream",
     "text": [
      "/share/wequ0318/cap_clean/processed/subject_1_n6_O2_A1.npz\n",
      "(4261, 128, 1) (4261,) (4261,)\n",
      "(1030, 3840, 1) (1030,) (1030,)\n",
      "(1030, 15360, 1) (1030,) (30900,)\n"
     ]
    }
   ],
   "source": [
    "for cap_f in glob.glob('{}/*.npz'.format(CAP_DIR)):\n",
    "    f_name = os.path.basename(cap_f)\n",
    "#     if f_name != 'n6_O2_A1.npz': continue\n",
    "    s_f = glob.glob('{}/*{}'.format(STG_DIR, f_name))\n",
    "    assert len(s_f) == 1\n",
    "    stg_f = s_f[0]\n",
    "    out_f = os.path.join(OUTPUT_DIR, os.path.basename(stg_f))\n",
    "    print(out_f)\n",
    "    with np.load(cap_f) as c_f:\n",
    "        c_x = c_f['x']\n",
    "        c_y = c_f['y']\n",
    "        c_t = c_f['t']\n",
    "        c_fs = c_f['fs']\n",
    "        print(c_x.shape, c_y.shape, c_t.shape)\n",
    "        with np.load(stg_f) as s_f:\n",
    "            s_x = s_f['x']\n",
    "            s_y = s_f['y']\n",
    "            s_t = s_f['t']\n",
    "            s_fs = s_f['fs']\n",
    "            print(s_x.shape, s_y.shape, s_t.shape)\n",
    "            assert c_fs == s_fs\n",
    "            s_t = np.array([extend_time(xi) for xi in s_t]).reshape(-1,)\n",
    "            inter = np.intersect1d(s_t, c_t, return_indices=True)\n",
    "            s_x_common = np.take(s_x.reshape(-1, int(s_fs)), inter[1], axis=0)\n",
    "            c_x_common = np.take(c_x.reshape(-1, int(c_fs)), inter[2], axis=0)\n",
    "            assert np.array_equal(s_x_common, c_x_common)\n",
    "            cap_labels = np.ones(s_t.shape, dtype=int) * 3\n",
    "            np.put(cap_labels, inter[1], np.take(c_y.reshape(-1,), inter[2], axis=0))\n",
    "            s_x = resample(s_x, 512*30, axis=1) if int(s_fs) != 512 else s_x\n",
    "            print(s_x.shape, s_y.shape, cap_labels.shape)\n",
    "            save_dict = {\n",
    "                \"x\": s_x, \n",
    "                \"c_y\": cap_labels,\n",
    "                \"s_y\": s_y\n",
    "            }\n",
    "            np.savez(out_f, **save_dict)\n",
    "    "
   ]
  },
  {
   "cell_type": "code",
   "execution_count": null,
   "id": "53fe31d0",
   "metadata": {},
   "outputs": [],
   "source": []
  }
 ],
 "metadata": {
  "kernelspec": {
   "display_name": "Python 3",
   "language": "python",
   "name": "python3"
  },
  "language_info": {
   "codemirror_mode": {
    "name": "ipython",
    "version": 3
   },
   "file_extension": ".py",
   "mimetype": "text/x-python",
   "name": "python",
   "nbconvert_exporter": "python",
   "pygments_lexer": "ipython3",
   "version": "3.6.13"
  }
 },
 "nbformat": 4,
 "nbformat_minor": 5
}
